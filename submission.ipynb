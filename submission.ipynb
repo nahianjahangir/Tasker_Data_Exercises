{
 "cells": [
  {
   "cell_type": "markdown",
   "metadata": {},
   "source": [
    "## Task Rabbit Data Exercise\n",
    "## Author: Nahian Jahangir"
   ]
  },
  {
   "cell_type": "code",
   "execution_count": 1,
   "metadata": {
    "collapsed": true
   },
   "outputs": [],
   "source": [
    "import csv \n",
    "import pandas as pd\n",
    "import statsmodels.formula.api as sm\n",
    "import matplotlib.pyplot as plt"
   ]
  },
  {
   "cell_type": "code",
   "execution_count": 2,
   "metadata": {
    "collapsed": true
   },
   "outputs": [],
   "source": [
    "dataset = pd.read_csv(\"/Users/nahian/Desktop/TaskRabbit/sample.csv\")"
   ]
  },
  {
   "cell_type": "markdown",
   "metadata": {},
   "source": [
    "### Questions"
   ]
  },
  {
   "cell_type": "markdown",
   "metadata": {},
   "source": [
    "#### 1) How many recommendation sets are in this data sample?"
   ]
  },
  {
   "cell_type": "markdown",
   "metadata": {},
   "source": [
    "#### Answer\n",
    "\n",
    "There are 2100 recommendation sets in this data sample."
   ]
  },
  {
   "cell_type": "markdown",
   "metadata": {},
   "source": [
    "#### Shown Work"
   ]
  },
  {
   "cell_type": "code",
   "execution_count": 3,
   "metadata": {},
   "outputs": [
    {
     "name": "stdout",
     "output_type": "stream",
     "text": [
      "Total number of recommendation sets:  2100\n"
     ]
    }
   ],
   "source": [
    "# The total number of recommendation sets, found by grouping the sets by recommendation id and counting them all\n",
    "number_of_recsets = len(dataset.groupby(\"recommendation_id\").count())\n",
    "print (\"Total number of recommendation sets: \",number_of_recsets)"
   ]
  },
  {
   "cell_type": "markdown",
   "metadata": {},
   "source": [
    "#### 2) Each recommendation set shows from 1 to 15 Taskers, what is:\n",
    "\n",
    "- average number of Taskers shown\n",
    "- median  number of Taskers shown"
   ]
  },
  {
   "cell_type": "markdown",
   "metadata": {},
   "source": [
    "#### Answer\n",
    "\n",
    "The average number of Taskers per recommendation set is 14.29 (rounded to the nearest hundredths place). The median number of Taskers per recommendation set is 15."
   ]
  },
  {
   "cell_type": "markdown",
   "metadata": {},
   "source": [
    "#### Shown Work"
   ]
  },
  {
   "cell_type": "code",
   "execution_count": 4,
   "metadata": {
    "collapsed": true
   },
   "outputs": [],
   "source": [
    "# Unique recommendation sets with corresponding total number of tasker ids\n",
    "recsets_by_taskers = dataset.groupby(\"recommendation_id\").count()[[\"tasker_id\"]]"
   ]
  },
  {
   "cell_type": "code",
   "execution_count": 5,
   "metadata": {},
   "outputs": [
    {
     "name": "stdout",
     "output_type": "stream",
     "text": [
      "Average number of taskers shown:  14.285714285714286\n"
     ]
    }
   ],
   "source": [
    "# Total number of taskers shown across the recommendation sets\n",
    "total_sum_taskers = recsets_by_taskers.agg(['sum']).at[\"sum\", \"tasker_id\"]\n",
    "# Average number of taskers shown per set\n",
    "average_num_taskers = (total_sum_taskers/number_of_recsets)\n",
    "print (\"Average number of taskers shown: \", average_num_taskers)"
   ]
  },
  {
   "cell_type": "code",
   "execution_count": 6,
   "metadata": {},
   "outputs": [
    {
     "name": "stdout",
     "output_type": "stream",
     "text": [
      "Median number of taskers shown:  15.0\n"
     ]
    }
   ],
   "source": [
    "# Median number of taskers per set\n",
    "median_num_taskers = recsets_by_taskers.agg(['median']).at[\"median\", \"tasker_id\"]\n",
    "print(\"Median number of taskers shown: \", median_num_taskers)"
   ]
  },
  {
   "cell_type": "markdown",
   "metadata": {},
   "source": [
    "#### 3) How many total unique Taskers are there in this data sample?"
   ]
  },
  {
   "cell_type": "markdown",
   "metadata": {},
   "source": [
    "#### Answer\n",
    "There are 830 unique taskers in the data sample."
   ]
  },
  {
   "cell_type": "markdown",
   "metadata": {},
   "source": [
    "#### Shown Work"
   ]
  },
  {
   "cell_type": "code",
   "execution_count": 7,
   "metadata": {},
   "outputs": [
    {
     "name": "stdout",
     "output_type": "stream",
     "text": [
      "Number of unique taskers:  830\n"
     ]
    }
   ],
   "source": [
    "# Number of unique taskers grouped by their id\n",
    "num_unique_taskers = len(dataset.groupby(\"tasker_id\").count())\n",
    "print(\"Number of unique taskers: \", num_unique_taskers)"
   ]
  },
  {
   "cell_type": "markdown",
   "metadata": {},
   "source": [
    "#### NOTE: For questions 4 and 5, I've written a small function to reuse for each solution below:"
   ]
  },
  {
   "cell_type": "code",
   "execution_count": 8,
   "metadata": {
    "collapsed": true
   },
   "outputs": [],
   "source": [
    "# This function returns with two lists of indices with the lowest/highest values of that dataset\n",
    "# input: min_num: minimum number, max_num: maximum number, dataframe: a dataframe/dataset \n",
    "# output: min_list: list of indices with minimum value, max_list: list of indices with maximum value\n",
    "def highs_and_lows(min_num, max_num, dataframe):\n",
    "    min_list = []\n",
    "    max_list = []\n",
    "    for index, series in dataframe.iterrows():\n",
    "        for value in series:\n",
    "            if (value == min_num):\n",
    "                min_list.append(index)\n",
    "            if (value == max_num):\n",
    "                max_list.append(index)   \n",
    "    return (min_list, max_list)\n",
    "\n"
   ]
  },
  {
   "cell_type": "markdown",
   "metadata": {},
   "source": [
    "#### 4) Which Tasker has been shown the most? Which Tasker has been shown the least?\n"
   ]
  },
  {
   "cell_type": "markdown",
   "metadata": {},
   "source": [
    "#### Answer\n",
    "\n",
    "List of tasker ID(s) with the most appearances: \n",
    "\n",
    "1014508755 \n",
    "\n",
    "List of tasker ID(s) with the least appearances: \n",
    "\n",
    "1013934937, 1009618500, 1013731883, 1012151299, 1009612428, 1009994950, 1014439502, 1014478773, 1007480912, 1011901532, 1009712638, 1007472083, 1010021990, 1008368716, 1007383273, 1010042971, 1014310300, 1008919567, 1007638825, 1012071620, 1013854788, 1011972750, 1009754999, 1009772528, 1007923586, 1013830691, 1008033678, 1013656032, 1011985968, 1011968845, 1012805440, 1011957940, 1011952623, 1009871933, 1009641175, 1011949117, 1014086818, 1014547884, 1010009736, 1010779242, 1012678504, 1012289475, 1009547227, 1008469117, 1008870833, 1006899551, 1014926743, 1012166729, 1006853970, 1012364558, 1008828652, 1010640007, 1012386513, 1009461190, 1006690425, 1013362004, 1012348656, 1013573125, 1009702351, 1007246122, 1013573988, 1009112003, 1010681878, 1008474216, 1009603880, 1008604368, 1014593279, 1007295623"
   ]
  },
  {
   "cell_type": "markdown",
   "metadata": {},
   "source": [
    "#### Shown Work"
   ]
  },
  {
   "cell_type": "code",
   "execution_count": 9,
   "metadata": {},
   "outputs": [
    {
     "name": "stdout",
     "output_type": "stream",
     "text": [
      "List of taskers with highest appearances:  [1014508755] \n",
      "\n",
      "List of taskers with lowest appearances:  [1006690425, 1006853970, 1006899551, 1007246122, 1007295623, 1007383273, 1007472083, 1007480912, 1007638825, 1007923586, 1008033678, 1008368716, 1008469117, 1008474216, 1008604368, 1008828652, 1008870833, 1008919567, 1009112003, 1009461190, 1009547227, 1009603880, 1009612428, 1009618500, 1009641175, 1009702351, 1009712638, 1009754999, 1009772528, 1009871933, 1009994950, 1010009736, 1010021990, 1010042971, 1010640007, 1010681878, 1010779242, 1011901532, 1011949117, 1011952623, 1011957940, 1011968845, 1011972750, 1011985968, 1012071620, 1012151299, 1012166729, 1012289475, 1012348656, 1012364558, 1012386513, 1012678504, 1012805440, 1013362004, 1013573125, 1013573988, 1013656032, 1013731883, 1013830691, 1013854788, 1013934937, 1014086818, 1014310300, 1014439502, 1014478773, 1014547884, 1014593279, 1014926743]\n"
     ]
    }
   ],
   "source": [
    "# Data subset of tasker ids with their corresponding number of recommendations\n",
    "tasker_by_recsets = dataset.groupby(\"tasker_id\").count()[[\"recommendation_id\"]]\n",
    "\n",
    "# The highest number of recommendations in the dataset (max = 608)\n",
    "maximum_recs = tasker_by_recsets.agg([\"max\"]).at[\"max\",\"recommendation_id\"]\n",
    "\n",
    "# The lowest number of recommendations in the dataset (min = 1)\n",
    "minimum_recs = tasker_by_recsets.agg([\"min\"]).at[\"min\",\"recommendation_id\"]\n",
    "\n",
    "# Here we find the taskers with the highest and lowest number of appearances in the data sample\n",
    "\n",
    "# NOTE: Refer to helper function named \"highs_and_lows\" above\n",
    "#\n",
    "# Here we go through the data frame and access the tasker id and the corresponding number of recommendation \n",
    "# appearances. The first for loop separates the index (tasker ids) and the series (number of recs).\n",
    "# The second for loop goes through the series and checks the value of each row to see if it is equivalent\n",
    "# to the highest or lowest number of appearances. If so, it appends the tasker id to the corresponding list of\n",
    "# lowest appearing/highest appearing taskers. \n",
    "\n",
    "lowest_highest_appearances = highs_and_lows(minimum_recs, maximum_recs, tasker_by_recsets)\n",
    "print (\"List of taskers with highest appearances: \", lowest_highest_appearances[1], \"\\n\")\n",
    "print (\"List of taskers with lowest appearances: \", lowest_highest_appearances[0])"
   ]
  },
  {
   "cell_type": "markdown",
   "metadata": {},
   "source": [
    "#### 5) Which Tasker has been hired the most? Which Tasker has been hired the least?"
   ]
  },
  {
   "cell_type": "markdown",
   "metadata": {},
   "source": [
    "#### Answer\n",
    "\n",
    "List of tasker ID(s) that were hired the most:\n",
    "\n",
    "1014508755\n",
    "\n",
    "List of tasker ID(s) that were hired the least:\n",
    "\n",
    "1006646767, 1006655883, 1006690425, 1006702141, 1006720473, 1006751673, 1006771484, 1006797028, 1006808958, 1006853970, 1006899551, 1006912729, 1006997279, 1007007551, 1007030973, 1007062502, 1007079569, 1007084219, 1007099706, 1007184581, 1007227664, 1007246122, 1007281889, 1007295623, 1007298334, 1007306634, 1007330127, 1007341779, 1007359134, 1007383273, 1007387389, 1007427737, 1007434113, 1007472083, 1007472401, 1007500626, 1007507819, 1007522599, 1007558398, 1007559277, 1007587531, 1007622369, 1007635345, 1007637336, 1007638825, 1007667196, 1007668676, 1007669454, 1007676728, 1007690283, 1007698914, 1007737526, 1007759461, 1007767833, 1007802310, 1007833379, 1007835025, 1007857615, 1007864774, 1007923586, 1007951123, 1007959721, 1007968057, 1007979407, 1007983615, 1007996057, 1008009861, 1008033678, 1008040050, 1008048046, 1008084329, 1008084340, 1008100870, 1008117024, 1008126135, 1008156234, 1008160719, 1008181685, 1008204888, 1008226920, 1008246075, 1008285499, 1008291615, 1008315219, 1008368716, 1008388028, 1008433413, 1008437375, 1008469117, 1008471742, 1008474216, 1008515366, 1008522862, 1008530523, 1008541564, 1008575617, 1008579696, 1008604368, 1008627674, 1008638046, 1008733253, 1008755457, 1008770945, 1008793354, 1008795556, 1008828652, 1008851469, 1008852766, 1008869970, 1008870833, 1008882577, 1008882890, 1008887250, 1008909718, 1008916139, 1008917345, 1008919567, 1008923539, 1008927981, 1008929196, 1008937896, 1008992879, 1008993679, 1008994502, 1008998514, 1009004974, 1009010411, 1009012358, 1009015118, 1009017255, 1009018554, 1009032881, 1009060654, 1009068727, 1009068790, 1009069176, 1009082263, 1009088605, 1009095021, 1009101039, 1009102158, 1009104451, 1009112003, 1009173718, 1009175464, 1009194244, 1009198916, 1009200788, 1009207948, 1009214097, 1009238570, 1009252606, 1009257847, 1009263238, 1009275665, 1009303915, 1009324093, 1009346591, 1009370074, 1009383492, 1009415294, 1009437164, 1009442527, 1009461190, 1009498831, 1009521234, 1009522455, 1009522626, 1009527782, 1009533233, 1009546381, 1009547227, 1009557645, 1009560053, 1009562467, 1009574870, 1009584033, 1009588432, 1009592218, 1009599684, 1009602600, 1009603880, 1009609456, 1009612428, 1009614284, 1009617257, 1009618500, 1009624287, 1009628215, 1009641175, 1009641248, 1009650794, 1009655904, 1009664852, 1009671395, 1009676440, 1009678255, 1009684274, 1009691450, 1009698253, 1009699943, 1009702351, 1009703886, 1009710635, 1009711314, 1009712638, 1009754999, 1009770990, 1009772528, 1009773025, 1009775106, 1009846634, 1009849653, 1009871933, 1009912107, 1009915784, 1009971132, 1009994735, 1009994950, 1010005259, 1010007708, 1010009736, 1010021990, 1010042971, 1010073055, 1010118053, 1010123848, 1010160425, 1010197076, 1010207016, 1010213519, 1010256345, 1010283481, 1010336529, 1010339348, 1010353414, 1010358521, 1010359470, 1010364255, 1010401883, 1010409380, 1010431504, 1010454617, 1010472301, 1010504532, 1010536424, 1010539884, 1010559307, 1010566526, 1010572598, 1010578503, 1010615419, 1010620678, 1010623967, 1010630139, 1010640007, 1010662794, 1010681878, 1010749409, 1010777070, 1010779242, 1010780058, 1010800768, 1010808301, 1010825425, 1011878136, 1011888594, 1011892362, 1011893829, 1011895071, 1011895194, 1011895482, 1011901532, 1011911986, 1011916264, 1011918831, 1011920380, 1011924730, 1011925421, 1011926934, 1011934910, 1011939766, 1011945540, 1011948155, 1011949117, 1011950000, 1011952623, 1011954744, 1011955278, 1011957940, 1011967642, 1011968845, 1011971584, 1011972750, 1011977907, 1011980411, 1011983949, 1011998372, 1011998806, 1012008316, 1012012157, 1012014762, 1012015056, 1012023724, 1012032109, 1012037448, 1012041997, 1012043995, 1012044683, 1012070172, 1012071620, 1012087402, 1012092491, 1012098963, 1012109243, 1012124452, 1012137181, 1012151299, 1012156657, 1012161356, 1012162203, 1012164831, 1012166729, 1012177448, 1012185045, 1012203025, 1012256631, 1012263593, 1012278198, 1012283560, 1012287433, 1012288242, 1012289475, 1012294721, 1012295911, 1012300480, 1012310160, 1012314913, 1012334642, 1012336231, 1012348656, 1012349396, 1012350158, 1012359111, 1012361445, 1012364558, 1012366044, 1012370015, 1012386513, 1012665165, 1012671648, 1012673964, 1012674904, 1012678504, 1012695836, 1012697607, 1012701057, 1012713774, 1012714042, 1012721539, 1012723668, 1012734318, 1012739925, 1012742205, 1012768328, 1012772735, 1012782255, 1012794778, 1012802530, 1012805440, 1012808908, 1012817658, 1012827307, 1012833276, 1012844094, 1012844322, 1012852144, 1012855070, 1012863860, 1012882688, 1012897935, 1012901278, 1012904943, 1012921402, 1012934022, 1012940118, 1012943753, 1012993797, 1013015545, 1013018469, 1013050748, 1013054880, 1013118411, 1013147394, 1013154573, 1013157342, 1013180266, 1013232099, 1013274645, 1013283344, 1013307670, 1013310195, 1013324030, 1013332099, 1013347767, 1013348964, 1013356776, 1013360287, 1013362004, 1013393288, 1013404271, 1013408127, 1013428871, 1013443671, 1013456120, 1013466450, 1013470741, 1013471521, 1013488289, 1013518787, 1013535895, 1013536605, 1013547920, 1013559212, 1013565150, 1013569536, 1013573125, 1013573988, 1013579273, 1013579716, 1013581753, 1013584982, 1013597448, 1013601191, 1013605523, 1013611363, 1013616374, 1013629876, 1013639191, 1013640473, 1013643125, 1013656032, 1013680993, 1013712730, 1013731883, 1013735817, 1013739197, 1013750575, 1013763015, 1013774329, 1013785284, 1013791452, 1013796238, 1013808636, 1013810587, 1013817475, 1013827416, 1013830691, 1013841400, 1013854788, 1013889952, 1013905160, 1013930866, 1013934937, 1013936138, 1014040225, 1014086818, 1014093099, 1014100034, 1014134164, 1014149908, 1014153813, 1014230419, 1014240354, 1014261951, 1014273057, 1014295403, 1014305776, 1014310300, 1014333513, 1014380301, 1014410032, 1014427017, 1014437680, 1014439502, 1014439622, 1014501186, 1014502291, 1014532398, 1014539109, 1014547884, 1014551627, 1014571994, 1014578899, 1014586046, 1014593279, 1014632169, 1014640927, 1014657461, 1014659781, 1014667352, 1014697426, 1014710322, 1014753188, 1014753677, 1014788707, 1014790265, 1014820493, 1014860648, 1014866421, 1014881086, 1014901856, 1014917205, 1014926743, 1014928212, 1014983247, 1015000099, 1015000442\n"
   ]
  },
  {
   "cell_type": "markdown",
   "metadata": {},
   "source": [
    "#### Shown Work"
   ]
  },
  {
   "cell_type": "code",
   "execution_count": 10,
   "metadata": {},
   "outputs": [
    {
     "name": "stdout",
     "output_type": "stream",
     "text": [
      "List of taskers with highest times hired:  [1012043028] \n",
      "\n",
      "List of taskers with lowest times hired:  [1006646767, 1006655883, 1006690425, 1006702141, 1006720473, 1006751673, 1006771484, 1006797028, 1006808958, 1006853970, 1006899551, 1006912729, 1006997279, 1007007551, 1007030973, 1007062502, 1007079569, 1007084219, 1007099706, 1007184581, 1007227664, 1007246122, 1007281889, 1007295623, 1007298334, 1007306634, 1007330127, 1007341779, 1007359134, 1007383273, 1007387389, 1007427737, 1007434113, 1007472083, 1007472401, 1007500626, 1007507819, 1007522599, 1007558398, 1007559277, 1007587531, 1007622369, 1007635345, 1007637336, 1007638825, 1007667196, 1007668676, 1007669454, 1007676728, 1007690283, 1007698914, 1007737526, 1007759461, 1007767833, 1007802310, 1007833379, 1007835025, 1007857615, 1007864774, 1007923586, 1007951123, 1007959721, 1007968057, 1007979407, 1007983615, 1007996057, 1008009861, 1008033678, 1008040050, 1008048046, 1008084329, 1008084340, 1008100870, 1008117024, 1008126135, 1008156234, 1008160719, 1008181685, 1008204888, 1008226920, 1008246075, 1008285499, 1008291615, 1008315219, 1008368716, 1008388028, 1008433413, 1008437375, 1008469117, 1008471742, 1008474216, 1008515366, 1008522862, 1008530523, 1008541564, 1008575617, 1008579696, 1008604368, 1008627674, 1008638046, 1008733253, 1008755457, 1008770945, 1008793354, 1008795556, 1008828652, 1008851469, 1008852766, 1008869970, 1008870833, 1008882577, 1008882890, 1008887250, 1008909718, 1008916139, 1008917345, 1008919567, 1008923539, 1008927981, 1008929196, 1008937896, 1008992879, 1008993679, 1008994502, 1008998514, 1009004974, 1009010411, 1009012358, 1009015118, 1009017255, 1009018554, 1009032881, 1009060654, 1009068727, 1009068790, 1009069176, 1009082263, 1009088605, 1009095021, 1009101039, 1009102158, 1009104451, 1009112003, 1009173718, 1009175464, 1009194244, 1009198916, 1009200788, 1009207948, 1009214097, 1009238570, 1009252606, 1009257847, 1009263238, 1009275665, 1009303915, 1009324093, 1009346591, 1009370074, 1009383492, 1009415294, 1009437164, 1009442527, 1009461190, 1009498831, 1009521234, 1009522455, 1009522626, 1009527782, 1009533233, 1009546381, 1009547227, 1009557645, 1009560053, 1009562467, 1009574870, 1009584033, 1009588432, 1009592218, 1009599684, 1009602600, 1009603880, 1009609456, 1009612428, 1009614284, 1009617257, 1009618500, 1009624287, 1009628215, 1009641175, 1009641248, 1009650794, 1009655904, 1009664852, 1009671395, 1009676440, 1009678255, 1009684274, 1009691450, 1009698253, 1009699943, 1009702351, 1009703886, 1009710635, 1009711314, 1009712638, 1009754999, 1009770990, 1009772528, 1009773025, 1009775106, 1009846634, 1009849653, 1009871933, 1009912107, 1009915784, 1009971132, 1009994735, 1009994950, 1010005259, 1010007708, 1010009736, 1010021990, 1010042971, 1010073055, 1010118053, 1010123848, 1010160425, 1010197076, 1010207016, 1010213519, 1010256345, 1010283481, 1010336529, 1010339348, 1010353414, 1010358521, 1010359470, 1010364255, 1010401883, 1010409380, 1010431504, 1010454617, 1010472301, 1010504532, 1010536424, 1010539884, 1010559307, 1010566526, 1010572598, 1010578503, 1010615419, 1010620678, 1010623967, 1010630139, 1010640007, 1010662794, 1010681878, 1010749409, 1010777070, 1010779242, 1010780058, 1010800768, 1010808301, 1010825425, 1011878136, 1011888594, 1011892362, 1011893829, 1011895071, 1011895194, 1011895482, 1011901532, 1011911986, 1011916264, 1011918831, 1011920380, 1011924730, 1011925421, 1011926934, 1011934910, 1011939766, 1011945540, 1011948155, 1011949117, 1011950000, 1011952623, 1011954744, 1011955278, 1011957940, 1011967642, 1011968845, 1011971584, 1011972750, 1011977907, 1011980411, 1011983949, 1011998372, 1011998806, 1012008316, 1012012157, 1012014762, 1012015056, 1012023724, 1012032109, 1012037448, 1012041997, 1012043995, 1012044683, 1012070172, 1012071620, 1012087402, 1012092491, 1012098963, 1012109243, 1012124452, 1012137181, 1012151299, 1012156657, 1012161356, 1012162203, 1012164831, 1012166729, 1012177448, 1012185045, 1012203025, 1012256631, 1012263593, 1012278198, 1012283560, 1012287433, 1012288242, 1012289475, 1012294721, 1012295911, 1012300480, 1012310160, 1012314913, 1012334642, 1012336231, 1012348656, 1012349396, 1012350158, 1012359111, 1012361445, 1012364558, 1012366044, 1012370015, 1012386513, 1012665165, 1012671648, 1012673964, 1012674904, 1012678504, 1012695836, 1012697607, 1012701057, 1012713774, 1012714042, 1012721539, 1012723668, 1012734318, 1012739925, 1012742205, 1012768328, 1012772735, 1012782255, 1012794778, 1012802530, 1012805440, 1012808908, 1012817658, 1012827307, 1012833276, 1012844094, 1012844322, 1012852144, 1012855070, 1012863860, 1012882688, 1012897935, 1012901278, 1012904943, 1012921402, 1012934022, 1012940118, 1012943753, 1012993797, 1013015545, 1013018469, 1013050748, 1013054880, 1013118411, 1013147394, 1013154573, 1013157342, 1013180266, 1013232099, 1013274645, 1013283344, 1013307670, 1013310195, 1013324030, 1013332099, 1013347767, 1013348964, 1013356776, 1013360287, 1013362004, 1013393288, 1013404271, 1013408127, 1013428871, 1013443671, 1013456120, 1013466450, 1013470741, 1013471521, 1013488289, 1013518787, 1013535895, 1013536605, 1013547920, 1013559212, 1013565150, 1013569536, 1013573125, 1013573988, 1013579273, 1013579716, 1013581753, 1013584982, 1013597448, 1013601191, 1013605523, 1013611363, 1013616374, 1013629876, 1013639191, 1013640473, 1013643125, 1013656032, 1013680993, 1013712730, 1013731883, 1013735817, 1013739197, 1013750575, 1013763015, 1013774329, 1013785284, 1013791452, 1013796238, 1013808636, 1013810587, 1013817475, 1013827416, 1013830691, 1013841400, 1013854788, 1013889952, 1013905160, 1013930866, 1013934937, 1013936138, 1014040225, 1014086818, 1014093099, 1014100034, 1014134164, 1014149908, 1014153813, 1014230419, 1014240354, 1014261951, 1014273057, 1014295403, 1014305776, 1014310300, 1014333513, 1014380301, 1014410032, 1014427017, 1014437680, 1014439502, 1014439622, 1014501186, 1014502291, 1014532398, 1014539109, 1014547884, 1014551627, 1014571994, 1014578899, 1014586046, 1014593279, 1014632169, 1014640927, 1014657461, 1014659781, 1014667352, 1014697426, 1014710322, 1014753188, 1014753677, 1014788707, 1014790265, 1014820493, 1014860648, 1014866421, 1014881086, 1014901856, 1014917205, 1014926743, 1014928212, 1014983247, 1015000099, 1015000442]\n"
     ]
    }
   ],
   "source": [
    "# Data subset of taskers with the corresponding number of times hired\n",
    "taskers_by_hired = dataset.groupby(\"tasker_id\").sum()[[\"hired\"]]\n",
    "\n",
    "# Maximum number of times taskers were hired (max = 59)\n",
    "maximum_times_hired = taskers_by_hired.agg([\"max\"]).at[\"max\",\"hired\"]\n",
    "\n",
    "# Minimum number of times taskers were hired (min = 1)\n",
    "minimum_times_hired = taskers_by_hired.agg([\"min\"]).at[\"min\",\"hired\"]\n",
    "\n",
    "\n",
    "# Here we find the taskers with the highest and lowest number of times hired in the data sample\n",
    "\n",
    "# NOTE: Refer to helper function named \"highs_and_lows\" above\n",
    "#\n",
    "# Here we go through the data frame and access the tasker id and the corresponding times they were hired \n",
    "# The first for loop separates the index (tasker ids) and the series (number of times hired).\n",
    "# The second for loop goes through the series and checks the value of each row to see if it is equivalent\n",
    "# to the highest or lowest number of times hired. If so, it appends the tasker id to the corresponding list of\n",
    "# lowest hired/highest hired taskers. \n",
    "\n",
    "lowest_highest_hired = highs_and_lows(minimum_times_hired, maximum_times_hired, taskers_by_hired)\n",
    "print (\"List of taskers with highest times hired: \", lowest_highest_hired[1], \"\\n\")\n",
    "print (\"List of taskers with lowest times hired: \", lowest_highest_hired[0])"
   ]
  },
  {
   "cell_type": "markdown",
   "metadata": {},
   "source": [
    "#### 6) If we define the \"Tasker conversion rate\" as the number of times a Tasker has been hired, out of the number of times the Tasker has been shown, how many Taskers have a conversion rate of 100%?"
   ]
  },
  {
   "cell_type": "markdown",
   "metadata": {},
   "source": [
    "#### Answer\n",
    "There are 6 taskers with a conversion rate of 100%."
   ]
  },
  {
   "cell_type": "markdown",
   "metadata": {},
   "source": [
    "#### Shown Work"
   ]
  },
  {
   "cell_type": "code",
   "execution_count": 11,
   "metadata": {},
   "outputs": [
    {
     "name": "stdout",
     "output_type": "stream",
     "text": [
      "[['Tasker ID: 1007480912', 'Times Hired: 1', 'Times Shown: 1'], ['Tasker ID: 1008094420', 'Times Hired: 2', 'Times Shown: 2'], ['Tasker ID: 1008861741', 'Times Hired: 9', 'Times Shown: 9'], ['Tasker ID: 1011985968', 'Times Hired: 1', 'Times Shown: 1'], ['Tasker ID: 1012369686', 'Times Hired: 2', 'Times Shown: 2'], ['Tasker ID: 1014478773', 'Times Hired: 1', 'Times Shown: 1']]\n"
     ]
    }
   ],
   "source": [
    "# Data subset of tasker ids and the total number of times they were hired\n",
    "tasker_times_hired = dataset.groupby(\"tasker_id\").sum()[[\"hired\"]]\n",
    "\n",
    "# Data subset of tasker ids and the total number of times they were shown (times recommended)\n",
    "tasker_times_seen = dataset.groupby(\"tasker_id\").count()[[\"recommendation_id\"]]\n",
    "\n",
    "# A combined dataset of the earlier data subsets (tasker_times_hired & tasker_times_seen) joined by their tasker ids\n",
    "combined_tasker_table = tasker_times_hired.join(tasker_times_seen, lsuffix='_tasker_times_hired', rsuffix='_tasker_times_seen')\n",
    "\n",
    "# This following for loop creates a list of all the taskers who have a 100% conversion rate.\n",
    "# The first for loop separates the index (tasker ids) and the series (number of times hired and shown).\n",
    "# It then checks if the conversion rate is equivalent to 100%, or in this case, 1.0. If so, it appends \n",
    "# the tasker id to the list.\n",
    "# The output is a list of the following : [tasker_id, times hired, times shown]\n",
    "\n",
    "conversion_100_taskers = []\n",
    "for tasker_id, data in combined_tasker_table.iterrows():\n",
    "    if (((data.values[0]/data.values[1]).item()) == 1.0):\n",
    "        conversion_100_taskers.append([\"Tasker ID: \" + str(tasker_id), \"Times Hired: \" + str(data.values[0]),\n",
    "                                       \"Times Shown: \" + str(data.values[1])])\n",
    "print (conversion_100_taskers)"
   ]
  },
  {
   "cell_type": "markdown",
   "metadata": {},
   "source": [
    "#### 7) Would it be possible for all Taskers to have a conversion rate of 100%? Please explain your reasoning."
   ]
  },
  {
   "cell_type": "markdown",
   "metadata": {},
   "source": [
    "#### Answer"
   ]
  },
  {
   "cell_type": "markdown",
   "metadata": {},
   "source": [
    "Of the 830 unique tasker ids, only 6 have acquired a conversion rate of 100%. It is very unlikely to have all taskers achieve a conversion rate of 100%.\n",
    "\n",
    "The data sample consists of 30,000 recommendations which suggest various tasker ids for different job categories. Within the dataset, there are 2,100 unique recommendation ids that contain up to 15 suggested taskers per recommendation set. The maximum number of taskers to be hired within each recommendation set is 1 while the minimum number is 0. This means that every time a tasker appears in a recommendation set, there is a large chance that they don't get hired. Due to the steep competition in every recommendation set, it is very unlikely that a tasker can get a conversion rate of a 100%. \n",
    "\n",
    "In order to improve the conversion rate of getting hired across all taskers shown, the following modifications can help:\n",
    "\n",
    "- Decrease the amount of taskers per recommendation set, since at most only one tasker is hired. This raises the probability of taskers getting selected as there is less competition\n",
    "- Increase the amount of taskers that can be hired per recommendation set.  This increases the success rate of each tasker\n",
    "- Decrease the amount of taskers that fail to get hired at all. Currently, the number of taskers who fail to get hired is 518. If you can appropriately suggest taskers to recommendation sets where competition is less / their skills are better suited for the job, this can decrease the failure rate.\n",
    "\n",
    "Applying these modifications can show a sizable improvement in the conversion rate."
   ]
  },
  {
   "cell_type": "markdown",
   "metadata": {},
   "source": [
    "#### Shown Work"
   ]
  },
  {
   "cell_type": "code",
   "execution_count": 12,
   "metadata": {},
   "outputs": [
    {
     "name": "stdout",
     "output_type": "stream",
     "text": [
      "Number of Taskers with 100% conversion rate:  6\n",
      "Number of all recommendation sets:  2100\n",
      "Number of unique Taskers:  830\n",
      "Number of Taskers who failed to get hired:  518\n",
      "Data subset of max/min number of people hired across recommendation sets:\n",
      "\n",
      "     hired\n",
      "max      1\n",
      "min      0\n"
     ]
    }
   ],
   "source": [
    "# The values mentioned above were found with the following code:\n",
    "\n",
    "# Number of people who achieved a 100% conversion rate\n",
    "print(\"Number of Taskers with 100% conversion rate: \", len(conversion_100_taskers))\n",
    "\n",
    "# Number of all recommendation sets (2100 sets)\n",
    "print (\"Number of all recommendation sets: \", number_of_recsets)\n",
    "\n",
    "# Number of unique taskers (830)\n",
    "print(\"Number of unique Taskers: \", num_unique_taskers)\n",
    "\n",
    "# Number of taskers who did not get hired (518)\n",
    "print (\"Number of Taskers who failed to get hired: \", len(lowest_highest_hired[0]))\n",
    "\n",
    "# Maximum/minimum number of people hired across recommendation sets (between 1 and 0)\n",
    "print(\"Data subset of max/min number of people hired across recommendation sets:\\n\")\n",
    "print(dataset.groupby(\"recommendation_id\").sum()[[\"hired\"]].agg([\"max\", \"min\"]))"
   ]
  },
  {
   "cell_type": "markdown",
   "metadata": {},
   "source": [
    "#### 8) For each category, what is the average position of the Tasker who is hired?\n"
   ]
  },
  {
   "cell_type": "markdown",
   "metadata": {},
   "source": [
    "#### Answer\n",
    "\n",
    "These are the average positions of the Taskers that are ultimately hired for each category (rounded to the nearest hundredths place):\n",
    "\n",
    "- Furniture Assembly: 3.61\n",
    "- Mounting: 4.60\n",
    "- Moving Help: 4.15"
   ]
  },
  {
   "cell_type": "markdown",
   "metadata": {},
   "source": [
    "#### Shown Work"
   ]
  },
  {
   "cell_type": "code",
   "execution_count": 13,
   "metadata": {},
   "outputs": [
    {
     "data": {
      "text/html": [
       "<div>\n",
       "<style scoped>\n",
       "    .dataframe tbody tr th:only-of-type {\n",
       "        vertical-align: middle;\n",
       "    }\n",
       "\n",
       "    .dataframe tbody tr th {\n",
       "        vertical-align: top;\n",
       "    }\n",
       "\n",
       "    .dataframe thead th {\n",
       "        text-align: right;\n",
       "    }\n",
       "</style>\n",
       "<table border=\"1\" class=\"dataframe\">\n",
       "  <thead>\n",
       "    <tr style=\"text-align: right;\">\n",
       "      <th></th>\n",
       "      <th>position</th>\n",
       "    </tr>\n",
       "    <tr>\n",
       "      <th>category</th>\n",
       "      <th></th>\n",
       "    </tr>\n",
       "  </thead>\n",
       "  <tbody>\n",
       "    <tr>\n",
       "      <th>Furniture Assembly</th>\n",
       "      <td>3.611888</td>\n",
       "    </tr>\n",
       "    <tr>\n",
       "      <th>Mounting</th>\n",
       "      <td>4.596085</td>\n",
       "    </tr>\n",
       "    <tr>\n",
       "      <th>Moving Help</th>\n",
       "      <td>4.145359</td>\n",
       "    </tr>\n",
       "  </tbody>\n",
       "</table>\n",
       "</div>"
      ],
      "text/plain": [
       "                    position\n",
       "category                    \n",
       "Furniture Assembly  3.611888\n",
       "Mounting            4.596085\n",
       "Moving Help         4.145359"
      ]
     },
     "execution_count": 13,
     "metadata": {},
     "output_type": "execute_result"
    }
   ],
   "source": [
    "dataset.loc[dataset['hired'].isin([1])].groupby(\"category\")[[\"position\"]].mean()"
   ]
  },
  {
   "cell_type": "markdown",
   "metadata": {},
   "source": [
    "#### 9) For each category, what is the average hourly rate and average number of completed tasks for the Taskers who are hired?"
   ]
  },
  {
   "cell_type": "markdown",
   "metadata": {},
   "source": [
    "#### Answer\n",
    "\n",
    "These are the average hourly rates of Taskers hired for each category (rounded to the nearest hundredths place):\n",
    "\n",
    "- Furniture Assembly: 38.70\n",
    "- Mounting: 50.15\n",
    "- Moving Help: 63.01\n",
    "\n",
    "These are the average number of completed tasks by Taskers hired for each category (rounded to the nearest hundredths place):\n",
    "\n",
    "- Furniture Assembly: 249.02\n",
    "- Mounting: 284.09\n",
    "- Moving Help: 273.88\n"
   ]
  },
  {
   "cell_type": "markdown",
   "metadata": {},
   "source": [
    "#### Shown Work"
   ]
  },
  {
   "cell_type": "code",
   "execution_count": 14,
   "metadata": {},
   "outputs": [
    {
     "data": {
      "text/html": [
       "<div>\n",
       "<style scoped>\n",
       "    .dataframe tbody tr th:only-of-type {\n",
       "        vertical-align: middle;\n",
       "    }\n",
       "\n",
       "    .dataframe tbody tr th {\n",
       "        vertical-align: top;\n",
       "    }\n",
       "\n",
       "    .dataframe thead th {\n",
       "        text-align: right;\n",
       "    }\n",
       "</style>\n",
       "<table border=\"1\" class=\"dataframe\">\n",
       "  <thead>\n",
       "    <tr style=\"text-align: right;\">\n",
       "      <th></th>\n",
       "      <th>hourly_rate</th>\n",
       "      <th>num_completed_tasks</th>\n",
       "    </tr>\n",
       "    <tr>\n",
       "      <th>category</th>\n",
       "      <th></th>\n",
       "      <th></th>\n",
       "    </tr>\n",
       "  </thead>\n",
       "  <tbody>\n",
       "    <tr>\n",
       "      <th>Furniture Assembly</th>\n",
       "      <td>38.701049</td>\n",
       "      <td>249.020979</td>\n",
       "    </tr>\n",
       "    <tr>\n",
       "      <th>Mounting</th>\n",
       "      <td>50.154804</td>\n",
       "      <td>284.096085</td>\n",
       "    </tr>\n",
       "    <tr>\n",
       "      <th>Moving Help</th>\n",
       "      <td>63.012259</td>\n",
       "      <td>273.882662</td>\n",
       "    </tr>\n",
       "  </tbody>\n",
       "</table>\n",
       "</div>"
      ],
      "text/plain": [
       "                    hourly_rate  num_completed_tasks\n",
       "category                                            \n",
       "Furniture Assembly    38.701049           249.020979\n",
       "Mounting              50.154804           284.096085\n",
       "Moving Help           63.012259           273.882662"
      ]
     },
     "execution_count": 14,
     "metadata": {},
     "output_type": "execute_result"
    }
   ],
   "source": [
    "dataset.loc[dataset['hired'].isin([1])].groupby(\"category\")[[\"hourly_rate\", \"num_completed_tasks\"]].mean()"
   ]
  },
  {
   "cell_type": "markdown",
   "metadata": {},
   "source": [
    "10) Based on the previous, how would you approach the question of:\n",
    "\n",
    "How can we use market data to suggest hourly rates to Taskers that would maximize their opportunity to be hired?\n",
    "\n",
    "Please describe in detail, with code and formulas that support your model."
   ]
  },
  {
   "cell_type": "markdown",
   "metadata": {},
   "source": [
    "#### Answer\n",
    "\n",
    "#### Hypothesis\n",
    "\n",
    "Using the market data extracted from the data sample provided, I believe that evaluating the relationship between the hourly rates of hired Taskers and their average number of tasks completed would reveal a mathematical formula or model that can aid in determining hourly rates. I hypothesize that the relationship between the number of completed tasks and the hourly rate is linear, meaning that those with more completed tasks under their profile can charge higher hourly rates for their services. To prove my hypothesis, I plan to:\n",
    "\n",
    "- Create a subset from the data sample provided to include only successfully hired taskers and the attributes of \"category\", \"hourly_rate\", and \"num_completed_tasks\". I will then transform this data set by finding the average number of completed tasks per unique hourly rate charged.\n",
    "- Split the subset into three groups based on the 3 different categories: Furniture Assembly, Moving Help, and Mounting\n",
    "- Apply a linear regression model to each dataset to see whether or not the relationship between hourly rate and previous completed number of tasks is linear\n",
    "\n",
    "Next, I will be discussing the steps I've taken during my analysis:"
   ]
  },
  {
   "cell_type": "markdown",
   "metadata": {},
   "source": [
    "#### Methods"
   ]
  },
  {
   "cell_type": "markdown",
   "metadata": {},
   "source": [
    "The first step is to create a new dataset from the original data sample and transform it. Here we make sure to include successfully hired taskers and also include the attributes \"category\", \"hourly_rate\", and \"num_completed_tasks.\" We then transform the data to find the average number of completed tasks per unique hourly rate charge. \n",
    "\n",
    "This dataset is labeled \"hired_categories\" and is shown below:"
   ]
  },
  {
   "cell_type": "code",
   "execution_count": 15,
   "metadata": {
    "scrolled": true
   },
   "outputs": [
    {
     "data": {
      "text/html": [
       "<div>\n",
       "<style scoped>\n",
       "    .dataframe tbody tr th:only-of-type {\n",
       "        vertical-align: middle;\n",
       "    }\n",
       "\n",
       "    .dataframe tbody tr th {\n",
       "        vertical-align: top;\n",
       "    }\n",
       "\n",
       "    .dataframe thead th {\n",
       "        text-align: right;\n",
       "    }\n",
       "</style>\n",
       "<table border=\"1\" class=\"dataframe\">\n",
       "  <thead>\n",
       "    <tr style=\"text-align: right;\">\n",
       "      <th></th>\n",
       "      <th>hourly_rate</th>\n",
       "      <th>num_completed_tasks</th>\n",
       "    </tr>\n",
       "    <tr>\n",
       "      <th>category</th>\n",
       "      <th></th>\n",
       "      <th></th>\n",
       "    </tr>\n",
       "  </thead>\n",
       "  <tbody>\n",
       "    <tr>\n",
       "      <th>Furniture Assembly</th>\n",
       "      <td>22</td>\n",
       "      <td>6.600000</td>\n",
       "    </tr>\n",
       "    <tr>\n",
       "      <th>Furniture Assembly</th>\n",
       "      <td>25</td>\n",
       "      <td>25.200000</td>\n",
       "    </tr>\n",
       "    <tr>\n",
       "      <th>Furniture Assembly</th>\n",
       "      <td>26</td>\n",
       "      <td>38.920000</td>\n",
       "    </tr>\n",
       "    <tr>\n",
       "      <th>Furniture Assembly</th>\n",
       "      <td>27</td>\n",
       "      <td>6.400000</td>\n",
       "    </tr>\n",
       "    <tr>\n",
       "      <th>Furniture Assembly</th>\n",
       "      <td>28</td>\n",
       "      <td>28.307692</td>\n",
       "    </tr>\n",
       "    <tr>\n",
       "      <th>Furniture Assembly</th>\n",
       "      <td>29</td>\n",
       "      <td>31.000000</td>\n",
       "    </tr>\n",
       "    <tr>\n",
       "      <th>Furniture Assembly</th>\n",
       "      <td>30</td>\n",
       "      <td>54.312500</td>\n",
       "    </tr>\n",
       "    <tr>\n",
       "      <th>Furniture Assembly</th>\n",
       "      <td>31</td>\n",
       "      <td>56.833333</td>\n",
       "    </tr>\n",
       "    <tr>\n",
       "      <th>Furniture Assembly</th>\n",
       "      <td>32</td>\n",
       "      <td>37.200000</td>\n",
       "    </tr>\n",
       "    <tr>\n",
       "      <th>Furniture Assembly</th>\n",
       "      <td>33</td>\n",
       "      <td>44.692308</td>\n",
       "    </tr>\n",
       "    <tr>\n",
       "      <th>Furniture Assembly</th>\n",
       "      <td>34</td>\n",
       "      <td>478.636364</td>\n",
       "    </tr>\n",
       "    <tr>\n",
       "      <th>Furniture Assembly</th>\n",
       "      <td>35</td>\n",
       "      <td>210.435897</td>\n",
       "    </tr>\n",
       "    <tr>\n",
       "      <th>Furniture Assembly</th>\n",
       "      <td>36</td>\n",
       "      <td>150.285714</td>\n",
       "    </tr>\n",
       "    <tr>\n",
       "      <th>Furniture Assembly</th>\n",
       "      <td>37</td>\n",
       "      <td>312.923077</td>\n",
       "    </tr>\n",
       "    <tr>\n",
       "      <th>Furniture Assembly</th>\n",
       "      <td>38</td>\n",
       "      <td>182.187500</td>\n",
       "    </tr>\n",
       "    <tr>\n",
       "      <th>Furniture Assembly</th>\n",
       "      <td>39</td>\n",
       "      <td>149.842105</td>\n",
       "    </tr>\n",
       "    <tr>\n",
       "      <th>Furniture Assembly</th>\n",
       "      <td>40</td>\n",
       "      <td>483.520000</td>\n",
       "    </tr>\n",
       "    <tr>\n",
       "      <th>Furniture Assembly</th>\n",
       "      <td>41</td>\n",
       "      <td>165.142857</td>\n",
       "    </tr>\n",
       "    <tr>\n",
       "      <th>Furniture Assembly</th>\n",
       "      <td>42</td>\n",
       "      <td>216.476190</td>\n",
       "    </tr>\n",
       "    <tr>\n",
       "      <th>Furniture Assembly</th>\n",
       "      <td>43</td>\n",
       "      <td>279.352941</td>\n",
       "    </tr>\n",
       "    <tr>\n",
       "      <th>Furniture Assembly</th>\n",
       "      <td>44</td>\n",
       "      <td>432.428571</td>\n",
       "    </tr>\n",
       "    <tr>\n",
       "      <th>Furniture Assembly</th>\n",
       "      <td>45</td>\n",
       "      <td>508.359375</td>\n",
       "    </tr>\n",
       "    <tr>\n",
       "      <th>Furniture Assembly</th>\n",
       "      <td>46</td>\n",
       "      <td>394.277778</td>\n",
       "    </tr>\n",
       "    <tr>\n",
       "      <th>Furniture Assembly</th>\n",
       "      <td>47</td>\n",
       "      <td>152.363636</td>\n",
       "    </tr>\n",
       "    <tr>\n",
       "      <th>Furniture Assembly</th>\n",
       "      <td>49</td>\n",
       "      <td>461.857143</td>\n",
       "    </tr>\n",
       "    <tr>\n",
       "      <th>Furniture Assembly</th>\n",
       "      <td>50</td>\n",
       "      <td>778.333333</td>\n",
       "    </tr>\n",
       "    <tr>\n",
       "      <th>Furniture Assembly</th>\n",
       "      <td>52</td>\n",
       "      <td>31.000000</td>\n",
       "    </tr>\n",
       "    <tr>\n",
       "      <th>Furniture Assembly</th>\n",
       "      <td>55</td>\n",
       "      <td>351.000000</td>\n",
       "    </tr>\n",
       "    <tr>\n",
       "      <th>Furniture Assembly</th>\n",
       "      <td>59</td>\n",
       "      <td>255.000000</td>\n",
       "    </tr>\n",
       "    <tr>\n",
       "      <th>Furniture Assembly</th>\n",
       "      <td>60</td>\n",
       "      <td>40.000000</td>\n",
       "    </tr>\n",
       "    <tr>\n",
       "      <th>...</th>\n",
       "      <td>...</td>\n",
       "      <td>...</td>\n",
       "    </tr>\n",
       "    <tr>\n",
       "      <th>Moving Help</th>\n",
       "      <td>41</td>\n",
       "      <td>172.500000</td>\n",
       "    </tr>\n",
       "    <tr>\n",
       "      <th>Moving Help</th>\n",
       "      <td>42</td>\n",
       "      <td>338.000000</td>\n",
       "    </tr>\n",
       "    <tr>\n",
       "      <th>Moving Help</th>\n",
       "      <td>43</td>\n",
       "      <td>182.692308</td>\n",
       "    </tr>\n",
       "    <tr>\n",
       "      <th>Moving Help</th>\n",
       "      <td>44</td>\n",
       "      <td>352.000000</td>\n",
       "    </tr>\n",
       "    <tr>\n",
       "      <th>Moving Help</th>\n",
       "      <td>45</td>\n",
       "      <td>231.814286</td>\n",
       "    </tr>\n",
       "    <tr>\n",
       "      <th>Moving Help</th>\n",
       "      <td>46</td>\n",
       "      <td>213.000000</td>\n",
       "    </tr>\n",
       "    <tr>\n",
       "      <th>Moving Help</th>\n",
       "      <td>47</td>\n",
       "      <td>340.214286</td>\n",
       "    </tr>\n",
       "    <tr>\n",
       "      <th>Moving Help</th>\n",
       "      <td>48</td>\n",
       "      <td>387.666667</td>\n",
       "    </tr>\n",
       "    <tr>\n",
       "      <th>Moving Help</th>\n",
       "      <td>49</td>\n",
       "      <td>542.071429</td>\n",
       "    </tr>\n",
       "    <tr>\n",
       "      <th>Moving Help</th>\n",
       "      <td>50</td>\n",
       "      <td>299.277778</td>\n",
       "    </tr>\n",
       "    <tr>\n",
       "      <th>Moving Help</th>\n",
       "      <td>55</td>\n",
       "      <td>21.750000</td>\n",
       "    </tr>\n",
       "    <tr>\n",
       "      <th>Moving Help</th>\n",
       "      <td>60</td>\n",
       "      <td>97.347826</td>\n",
       "    </tr>\n",
       "    <tr>\n",
       "      <th>Moving Help</th>\n",
       "      <td>70</td>\n",
       "      <td>138.225806</td>\n",
       "    </tr>\n",
       "    <tr>\n",
       "      <th>Moving Help</th>\n",
       "      <td>75</td>\n",
       "      <td>111.800000</td>\n",
       "    </tr>\n",
       "    <tr>\n",
       "      <th>Moving Help</th>\n",
       "      <td>80</td>\n",
       "      <td>463.812500</td>\n",
       "    </tr>\n",
       "    <tr>\n",
       "      <th>Moving Help</th>\n",
       "      <td>85</td>\n",
       "      <td>137.000000</td>\n",
       "    </tr>\n",
       "    <tr>\n",
       "      <th>Moving Help</th>\n",
       "      <td>90</td>\n",
       "      <td>399.050000</td>\n",
       "    </tr>\n",
       "    <tr>\n",
       "      <th>Moving Help</th>\n",
       "      <td>95</td>\n",
       "      <td>790.941176</td>\n",
       "    </tr>\n",
       "    <tr>\n",
       "      <th>Moving Help</th>\n",
       "      <td>100</td>\n",
       "      <td>657.294118</td>\n",
       "    </tr>\n",
       "    <tr>\n",
       "      <th>Moving Help</th>\n",
       "      <td>105</td>\n",
       "      <td>32.800000</td>\n",
       "    </tr>\n",
       "    <tr>\n",
       "      <th>Moving Help</th>\n",
       "      <td>110</td>\n",
       "      <td>761.555556</td>\n",
       "    </tr>\n",
       "    <tr>\n",
       "      <th>Moving Help</th>\n",
       "      <td>115</td>\n",
       "      <td>849.500000</td>\n",
       "    </tr>\n",
       "    <tr>\n",
       "      <th>Moving Help</th>\n",
       "      <td>120</td>\n",
       "      <td>514.857143</td>\n",
       "    </tr>\n",
       "    <tr>\n",
       "      <th>Moving Help</th>\n",
       "      <td>125</td>\n",
       "      <td>670.500000</td>\n",
       "    </tr>\n",
       "    <tr>\n",
       "      <th>Moving Help</th>\n",
       "      <td>135</td>\n",
       "      <td>253.500000</td>\n",
       "    </tr>\n",
       "    <tr>\n",
       "      <th>Moving Help</th>\n",
       "      <td>140</td>\n",
       "      <td>815.000000</td>\n",
       "    </tr>\n",
       "    <tr>\n",
       "      <th>Moving Help</th>\n",
       "      <td>145</td>\n",
       "      <td>120.000000</td>\n",
       "    </tr>\n",
       "    <tr>\n",
       "      <th>Moving Help</th>\n",
       "      <td>150</td>\n",
       "      <td>1018.714286</td>\n",
       "    </tr>\n",
       "    <tr>\n",
       "      <th>Moving Help</th>\n",
       "      <td>180</td>\n",
       "      <td>1037.000000</td>\n",
       "    </tr>\n",
       "    <tr>\n",
       "      <th>Moving Help</th>\n",
       "      <td>190</td>\n",
       "      <td>148.000000</td>\n",
       "    </tr>\n",
       "  </tbody>\n",
       "</table>\n",
       "<p>114 rows × 2 columns</p>\n",
       "</div>"
      ],
      "text/plain": [
       "                    hourly_rate  num_completed_tasks\n",
       "category                                            \n",
       "Furniture Assembly           22             6.600000\n",
       "Furniture Assembly           25            25.200000\n",
       "Furniture Assembly           26            38.920000\n",
       "Furniture Assembly           27             6.400000\n",
       "Furniture Assembly           28            28.307692\n",
       "Furniture Assembly           29            31.000000\n",
       "Furniture Assembly           30            54.312500\n",
       "Furniture Assembly           31            56.833333\n",
       "Furniture Assembly           32            37.200000\n",
       "Furniture Assembly           33            44.692308\n",
       "Furniture Assembly           34           478.636364\n",
       "Furniture Assembly           35           210.435897\n",
       "Furniture Assembly           36           150.285714\n",
       "Furniture Assembly           37           312.923077\n",
       "Furniture Assembly           38           182.187500\n",
       "Furniture Assembly           39           149.842105\n",
       "Furniture Assembly           40           483.520000\n",
       "Furniture Assembly           41           165.142857\n",
       "Furniture Assembly           42           216.476190\n",
       "Furniture Assembly           43           279.352941\n",
       "Furniture Assembly           44           432.428571\n",
       "Furniture Assembly           45           508.359375\n",
       "Furniture Assembly           46           394.277778\n",
       "Furniture Assembly           47           152.363636\n",
       "Furniture Assembly           49           461.857143\n",
       "Furniture Assembly           50           778.333333\n",
       "Furniture Assembly           52            31.000000\n",
       "Furniture Assembly           55           351.000000\n",
       "Furniture Assembly           59           255.000000\n",
       "Furniture Assembly           60            40.000000\n",
       "...                         ...                  ...\n",
       "Moving Help                  41           172.500000\n",
       "Moving Help                  42           338.000000\n",
       "Moving Help                  43           182.692308\n",
       "Moving Help                  44           352.000000\n",
       "Moving Help                  45           231.814286\n",
       "Moving Help                  46           213.000000\n",
       "Moving Help                  47           340.214286\n",
       "Moving Help                  48           387.666667\n",
       "Moving Help                  49           542.071429\n",
       "Moving Help                  50           299.277778\n",
       "Moving Help                  55            21.750000\n",
       "Moving Help                  60            97.347826\n",
       "Moving Help                  70           138.225806\n",
       "Moving Help                  75           111.800000\n",
       "Moving Help                  80           463.812500\n",
       "Moving Help                  85           137.000000\n",
       "Moving Help                  90           399.050000\n",
       "Moving Help                  95           790.941176\n",
       "Moving Help                 100           657.294118\n",
       "Moving Help                 105            32.800000\n",
       "Moving Help                 110           761.555556\n",
       "Moving Help                 115           849.500000\n",
       "Moving Help                 120           514.857143\n",
       "Moving Help                 125           670.500000\n",
       "Moving Help                 135           253.500000\n",
       "Moving Help                 140           815.000000\n",
       "Moving Help                 145           120.000000\n",
       "Moving Help                 150          1018.714286\n",
       "Moving Help                 180          1037.000000\n",
       "Moving Help                 190           148.000000\n",
       "\n",
       "[114 rows x 2 columns]"
      ]
     },
     "execution_count": 15,
     "metadata": {},
     "output_type": "execute_result"
    }
   ],
   "source": [
    "# Hired people's category and the average num_completed_tasks for each hourly rate \n",
    "hired_categories = dataset.loc[dataset['hired'].isin([1])][[\"category\",\"hourly_rate\",\"num_completed_tasks\"]].groupby([\"category\", \"hourly_rate\"]).mean().sort_values(by=[\"category\",\"hourly_rate\"])\n",
    "hired_categories = hired_categories.reset_index(level='hourly_rate')\n",
    "hired_categories\n"
   ]
  },
  {
   "cell_type": "markdown",
   "metadata": {},
   "source": [
    "Since we are working with three different categories, I've split the dataset, which was previously labeled \"hired_categories\", into three subsets: Furniture Assembly, Moving Help, and Mounting. \n",
    "\n",
    "The three datasets are labeled \"furniture_assembly\", \"mounting\", and \"moving_help\", and are shown below: "
   ]
  },
  {
   "cell_type": "code",
   "execution_count": 16,
   "metadata": {
    "collapsed": true
   },
   "outputs": [],
   "source": [
    "furniture_assembly = hired_categories.loc[\"Furniture Assembly\"]\n",
    "mounting = hired_categories.loc[\"Mounting\"]\n",
    "moving_help = hired_categories.loc[\"Moving Help\"]"
   ]
  },
  {
   "cell_type": "markdown",
   "metadata": {},
   "source": [
    "The next step is to apply a linear regression model to each subset. Using the package statsmodels, I've opted to use OLS (Ordinary Least Squares) method to test out my hypothesis. I use OLS for the following reasons:\n",
    "\n",
    "- I believe that the relationship between number of completed tasks and the hourly rate is linear\n",
    "- I believe that the data sample is a true random sampling of taskers across the three different markets\n",
    "- I hold one independent variable (number of completed tasks) to inform the value of hourly rate, so there is no multi-collinearity \n",
    "- I believe that the dataset is homoscedastic, or that all the random variables have the same variance\n",
    "- I believe that the conditional mean is 0, or that I assume there are no other variables that can come into play\n",
    "\n",
    "I apply the models for each subset and print the results below:"
   ]
  },
  {
   "cell_type": "markdown",
   "metadata": {},
   "source": [
    "#### Data"
   ]
  },
  {
   "cell_type": "code",
   "execution_count": 17,
   "metadata": {},
   "outputs": [
    {
     "name": "stdout",
     "output_type": "stream",
     "text": [
      "Furniture Assembly - OLS\n",
      "                             OLS Regression Results                            \n",
      "==============================================================================\n",
      "Dep. Variable:            hourly_rate   R-squared:                       0.464\n",
      "Model:                            OLS   Adj. R-squared:                  0.449\n",
      "Method:                 Least Squares   F-statistic:                     32.01\n",
      "Date:                Sun, 11 Nov 2018   Prob (F-statistic):           1.82e-06\n",
      "Time:                        16:56:38   Log-Likelihood:                -178.27\n",
      "No. Observations:                  39   AIC:                             360.5\n",
      "Df Residuals:                      37   BIC:                             363.9\n",
      "Df Model:                           1                                         \n",
      "Covariance Type:            nonrobust                                         \n",
      "=======================================================================================\n",
      "                          coef    std err          t      P>|t|      [0.025      0.975]\n",
      "---------------------------------------------------------------------------------------\n",
      "Intercept              29.4995      5.637      5.234      0.000      18.079      40.920\n",
      "num_completed_tasks     0.0816      0.014      5.658      0.000       0.052       0.111\n",
      "==============================================================================\n",
      "Omnibus:                       11.488   Durbin-Watson:                   1.128\n",
      "Prob(Omnibus):                  0.003   Jarque-Bera (JB):               11.270\n",
      "Skew:                           1.076   Prob(JB):                      0.00357\n",
      "Kurtosis:                       4.517   Cond. No.                         573.\n",
      "==============================================================================\n",
      "\n",
      "Warnings:\n",
      "[1] Standard Errors assume that the covariance matrix of the errors is correctly specified. \n",
      "\n",
      "Mounting - OLS\n",
      "                             OLS Regression Results                            \n",
      "==============================================================================\n",
      "Dep. Variable:            hourly_rate   R-squared:                       0.385\n",
      "Model:                            OLS   Adj. R-squared:                  0.363\n",
      "Method:                 Least Squares   F-statistic:                     17.54\n",
      "Date:                Sun, 11 Nov 2018   Prob (F-statistic):           0.000253\n",
      "Time:                        16:56:38   Log-Likelihood:                -116.77\n",
      "No. Observations:                  30   AIC:                             237.5\n",
      "Df Residuals:                      28   BIC:                             240.3\n",
      "Df Model:                           1                                         \n",
      "Covariance Type:            nonrobust                                         \n",
      "=======================================================================================\n",
      "                          coef    std err          t      P>|t|      [0.025      0.975]\n",
      "---------------------------------------------------------------------------------------\n",
      "Intercept              41.0251      3.230     12.700      0.000      34.408      47.642\n",
      "num_completed_tasks     0.0403      0.010      4.188      0.000       0.021       0.060\n",
      "==============================================================================\n",
      "Omnibus:                       42.252   Durbin-Watson:                   0.699\n",
      "Prob(Omnibus):                  0.000   Jarque-Bera (JB):              182.636\n",
      "Skew:                           2.780   Prob(JB):                     2.19e-40\n",
      "Kurtosis:                      13.733   Cond. No.                         484.\n",
      "==============================================================================\n",
      "\n",
      "Warnings:\n",
      "[1] Standard Errors assume that the covariance matrix of the errors is correctly specified. \n",
      "\n",
      "Moving Help - OLS\n",
      "                             OLS Regression Results                            \n",
      "==============================================================================\n",
      "Dep. Variable:            hourly_rate   R-squared:                       0.419\n",
      "Model:                            OLS   Adj. R-squared:                  0.405\n",
      "Method:                 Least Squares   F-statistic:                     31.00\n",
      "Date:                Sun, 11 Nov 2018   Prob (F-statistic):           1.55e-06\n",
      "Time:                        16:56:38   Log-Likelihood:                -222.45\n",
      "No. Observations:                  45   AIC:                             448.9\n",
      "Df Residuals:                      43   BIC:                             452.5\n",
      "Df Model:                           1                                         \n",
      "Covariance Type:            nonrobust                                         \n",
      "=======================================================================================\n",
      "                          coef    std err          t      P>|t|      [0.025      0.975]\n",
      "---------------------------------------------------------------------------------------\n",
      "Intercept              42.3594      7.190      5.891      0.000      27.859      56.860\n",
      "num_completed_tasks     0.0979      0.018      5.568      0.000       0.062       0.133\n",
      "==============================================================================\n",
      "Omnibus:                       30.201   Durbin-Watson:                   0.897\n",
      "Prob(Omnibus):                  0.000   Jarque-Bera (JB):               61.388\n",
      "Skew:                           1.920   Prob(JB):                     4.68e-14\n",
      "Kurtosis:                       7.242   Cond. No.                         568.\n",
      "==============================================================================\n",
      "\n",
      "Warnings:\n",
      "[1] Standard Errors assume that the covariance matrix of the errors is correctly specified. \n",
      "\n"
     ]
    }
   ],
   "source": [
    "fa_model = sm.ols(formula = \"hourly_rate ~ num_completed_tasks\", data = furniture_assembly).fit()\n",
    "print(\"Furniture Assembly - OLS\\n\", fa_model.summary(), \"\\n\")\n",
    "mou_model = sm.ols(formula = \"hourly_rate ~ num_completed_tasks\", data = mounting).fit()\n",
    "print(\"Mounting - OLS\\n\", mou_model.summary(), \"\\n\")\n",
    "mh_model = sm.ols(formula = \"hourly_rate ~ num_completed_tasks\", data = moving_help).fit()\n",
    "print(\"Moving Help - OLS\\n\", mh_model.summary(), \"\\n\")\n"
   ]
  },
  {
   "cell_type": "markdown",
   "metadata": {},
   "source": [
    "#### Analysis"
   ]
  },
  {
   "cell_type": "markdown",
   "metadata": {},
   "source": [
    "The simplest way to determine a linear relationship between an independent and a dependent variable is to use the following linear regression formula:\n",
    "\n",
    "Y = mx + b (+/-) a where:\n",
    "\n",
    "- Y represents the hourly rate, the dependent variable\n",
    "- m represents the slope\n",
    "- x represents the number of completed tasks, the independent variable\n",
    "- b represents the intercept\n",
    "- a represents the error term, the standard deviation\n",
    "\n",
    "Formulas:\n",
    "\n",
    "(Furniture Assembly) hourly_rate = 0.0816(num_completed_tasks) + 29.4995 (+/-) 5.637\n",
    "\n",
    "(Mounting) hourly_rate = 0.0403(num_completed_tasks) + 41.0251 (+/-) 3.230\n",
    "\n",
    "(Moving Help) hourly_rate = 0.0979(num_completed_tasks) + 42.3594 (+/-) 7.190\n",
    "\n",
    "\n",
    "Using the furniture assembly formula, we can perform a simple check by plugging in a number of completed tasks for a selected row in the data points. For example:\n",
    "\n",
    "A Tasker whose hourly rate is $36 has an average of 150.285714 number of tasks completed. Plugging in our values results in:\n",
    "\n",
    "Y = .0816(150.285714) + 29.4995 (+/-) 5.637\n",
    "\n",
    "Y = 41.7628143 - 5.637\n",
    "\n",
    "Y = 36.1258143\n",
    "\n",
    "Y ~ 36, which is approximately the hourly rate we were expecting, and verifies that this formula leads us to the proper approximation.\n",
    "\n",
    "\n",
    "From the OLS data results above, the most significant outcome is the R-Squared value across the three categories. The R-squared value tells us how close we are in fitting our data to the regression line. This value across the categories is as follows:\n",
    "\n",
    "- Furniture Assembly: 0.464\n",
    "- Mounting: 0.385\n",
    "- Moving Help: 0.419\n",
    "\n",
    "To explain what this means further, I'll use our results from Furniture Assembly. Our R-squared value was .464 which means that our statistical model helps to explain 46.4% of our data. However, it leaves 53.6% of the data unexplained with this linear regression model. The R-squared values across the other categories are also quite low. In conclusion, though there is a slight correlation, the relationship between completed number of tasks and hourly rate does not appear to be entirely linear. "
   ]
  },
  {
   "cell_type": "markdown",
   "metadata": {},
   "source": [
    "#### Discussion"
   ]
  },
  {
   "cell_type": "markdown",
   "metadata": {},
   "source": [
    "There are several ways of improving this experiment when deriving a better mathematical predictor for hourly rates in the future.\n",
    "\n",
    "For starters, there may be other variables that come into play when hiring a tasker. Though number of tasks completed is a good indicator for how experienced a tasker can be, we must also consider their quality of work, their customer feedback, and how well they market themselves. These factors can make a huge impact on whether an individual gets hired for a task or not.\n",
    "\n",
    "Another part of the experiment that can be improved upon is increasing the sample number. After transforming and altering the datasets several times, I was left with between 30-45 observations per applied statistical model. By increasing the sample size, we can get a more accurate idea of whether or not our applied model is the right one.\n",
    "\n",
    "Lastly, I made incorrect assumptions that made up my reasoning to use the OLS method for my linear regression. One such assumption was believing that the data I had was homoscedastic, or that my variables had the same level of variance between each other. However, by simply plotting the \"furniture_assembly\" dataset, we can see that variance fluctuated quite a bit between the scattered points, as shown below:"
   ]
  },
  {
   "cell_type": "code",
   "execution_count": 18,
   "metadata": {},
   "outputs": [
    {
     "data": {
      "image/png": "[encoded data removed]",
      "text/plain": [
       "<Figure size 432x288 with 1 Axes>"
      ]
     },
     "metadata": {},
     "output_type": "display_data"
    }
   ],
   "source": [
    "furniture_assembly.plot.scatter(x='num_completed_tasks',y='hourly_rate', c='DarkBlue')\n",
    "plt.show()"
   ]
  },
  {
   "cell_type": "markdown",
   "metadata": {},
   "source": [
    "#### Conslusion"
   ]
  },
  {
   "cell_type": "markdown",
   "metadata": {},
   "source": [
    "In conclusion, using our current data sample we cannot generate an informed method for determining hourly rates that would help Taskers improve their job acquisition success rate. \n",
    "\n",
    "However, as mentioned above, there are a number of ways we can further improve the analysis:\n",
    "\n",
    "- Gather a larger data sampling to improve accuracy of results\n",
    "- Consider and include other factors, such as quality of work or Tasker rating\n",
    "- Apply different mathematical models or methods\n",
    "\n",
    "While this is not an indepth analysis, I do believe that I was able to show that a correlation exists between the hourly rate and the number of completed tasks."
   ]
  }
 ],
 "metadata": {
  "kernelspec": {
   "display_name": "Python 3",
   "language": "python",
   "name": "python3"
  },
  "language_info": {
   "codemirror_mode": {
    "name": "ipython",
    "version": 3
   },
   "file_extension": ".py",
   "mimetype": "text/x-python",
   "name": "python",
   "nbconvert_exporter": "python",
   "pygments_lexer": "ipython3",
   "version": "3.6.4"
  }
 },
 "nbformat": 4,
 "nbformat_minor": 2
}
